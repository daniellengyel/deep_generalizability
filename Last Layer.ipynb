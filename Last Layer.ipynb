{
 "cells": [
  {
   "cell_type": "code",
   "execution_count": 1,
   "metadata": {},
   "outputs": [],
   "source": [
    "import pandas as pd\n",
    "import pickle,os, copy\n",
    "import matplotlib.pyplot as plt\n",
    "import torch\n",
    "from torch.utils.data import DataLoader\n",
    "import sys\n",
    "\n",
    "\n",
    "import re\n",
    "\n",
    "from sklearn.cluster import DBSCAN\n",
    "\n",
    "\n",
    "from deep_generalizability.nets import Nets\n",
    "from deep_generalizability.utils import *\n",
    "from deep_generalizability.postprocessing.postprocessing import *\n",
    "from deep_generalizability.postprocessing.stats_plotting import *\n",
    "from deep_generalizability.save_load import *\n",
    "\n",
    "from deep_generalizability.postprocessing.sharpness_measures import *\n",
    "from deep_generalizability.postprocessing.stats_plotting import *\n",
    "\n",
    "from deep_generalizability.data_getters import *\n",
    "\n",
    "%load_ext autoreload\n",
    "%autoreload 2\n",
    "\n",
    "plt.rcParams[\"figure.figsize\"] = (13,9)\n"
   ]
  },
  {
   "cell_type": "code",
   "execution_count": 93,
   "metadata": {},
   "outputs": [],
   "source": [
    "root_folder = os.environ[\"PATH_TO_DEEP_FOLDER\"]\n",
    "data_name = \"concentric_balls\"\n",
    "exp = \"Sep03_19-07-02_Daniels-MacBook-Pro-4.local\"\n",
    "experiment_folder = os.path.join(root_folder, \"experiments\", data_name, exp)"
   ]
  },
  {
   "cell_type": "code",
   "execution_count": 94,
   "metadata": {},
   "outputs": [],
   "source": [
    "stats_df = get_end_stats(experiment_folder)\n"
   ]
  },
  {
   "cell_type": "code",
   "execution_count": 95,
   "metadata": {},
   "outputs": [
    {
     "data": {
      "text/html": [
       "<div>\n",
       "<style scoped>\n",
       "    .dataframe tbody tr th:only-of-type {\n",
       "        vertical-align: middle;\n",
       "    }\n",
       "\n",
       "    .dataframe tbody tr th {\n",
       "        vertical-align: top;\n",
       "    }\n",
       "\n",
       "    .dataframe thead th {\n",
       "        text-align: right;\n",
       "    }\n",
       "</style>\n",
       "<table border=\"1\" class=\"dataframe\">\n",
       "  <thead>\n",
       "    <tr style=\"text-align: right;\">\n",
       "      <th></th>\n",
       "      <th>Acc Gap Mean</th>\n",
       "      <th>Acc Test Max</th>\n",
       "      <th>Acc Test Mean</th>\n",
       "      <th>Acc Test Min</th>\n",
       "      <th>Acc Train Max</th>\n",
       "      <th>Acc Train Mean</th>\n",
       "      <th>Acc Train Min</th>\n",
       "      <th>Loss Test Max</th>\n",
       "      <th>Loss Test Mean</th>\n",
       "      <th>Loss Test Min</th>\n",
       "      <th>Loss Train Max</th>\n",
       "      <th>Loss Train Mean</th>\n",
       "      <th>Loss Train Min</th>\n",
       "      <th>Norm Max</th>\n",
       "      <th>Norm Mean</th>\n",
       "      <th>Norm Min</th>\n",
       "    </tr>\n",
       "  </thead>\n",
       "  <tbody>\n",
       "    <tr>\n",
       "      <th>1599152830.026554</th>\n",
       "      <td>0.004</td>\n",
       "      <td>0.95</td>\n",
       "      <td>0.95</td>\n",
       "      <td>0.95</td>\n",
       "      <td>0.946</td>\n",
       "      <td>0.946</td>\n",
       "      <td>0.946</td>\n",
       "      <td>0.181</td>\n",
       "      <td>0.181</td>\n",
       "      <td>0.181</td>\n",
       "      <td>0.189398</td>\n",
       "      <td>0.189398</td>\n",
       "      <td>0.189398</td>\n",
       "      <td>14.800916</td>\n",
       "      <td>14.800916</td>\n",
       "      <td>14.800916</td>\n",
       "    </tr>\n",
       "  </tbody>\n",
       "</table>\n",
       "</div>"
      ],
      "text/plain": [
       "                   Acc Gap Mean  Acc Test Max  Acc Test Mean  Acc Test Min  \\\n",
       "1599152830.026554         0.004          0.95           0.95          0.95   \n",
       "\n",
       "                   Acc Train Max  Acc Train Mean  Acc Train Min  \\\n",
       "1599152830.026554          0.946           0.946          0.946   \n",
       "\n",
       "                   Loss Test Max  Loss Test Mean  Loss Test Min  \\\n",
       "1599152830.026554          0.181           0.181          0.181   \n",
       "\n",
       "                   Loss Train Max  Loss Train Mean  Loss Train Min   Norm Max  \\\n",
       "1599152830.026554        0.189398         0.189398        0.189398  14.800916   \n",
       "\n",
       "                   Norm Mean   Norm Min  \n",
       "1599152830.026554  14.800916  14.800916  "
      ]
     },
     "execution_count": 95,
     "metadata": {},
     "output_type": "execute_result"
    }
   ],
   "source": [
    "stats_df.sort_values(by=\"Acc Test Max\", ascending=False)"
   ]
  },
  {
   "cell_type": "code",
   "execution_count": 96,
   "metadata": {},
   "outputs": [],
   "source": [
    "all_models = get_all_models(experiment_folder, -1)"
   ]
  },
  {
   "cell_type": "code",
   "execution_count": 103,
   "metadata": {},
   "outputs": [],
   "source": [
    "m = all_models[\"1599152830.026554\"][\"0\"]"
   ]
  },
  {
   "cell_type": "code",
   "execution_count": 111,
   "metadata": {},
   "outputs": [
    {
     "data": {
      "text/plain": [
       "OrderedDict([('fc_input.weight', tensor([[ 2.6572,  2.9194],\n",
       "                      [-1.9558, -3.6726]])),\n",
       "             ('fc_input.bias', tensor([1.9195, 2.2298])),\n",
       "             ('layers.0.weight', tensor([[2.4225, 2.2552],\n",
       "                      [0.7905, 0.7359]])),\n",
       "             ('layers.0.bias', tensor([-12.0818,  -3.9423])),\n",
       "             ('fc_final.weight', tensor([[-0.9907, -0.3865],\n",
       "                      [ 0.0237, -0.0556]])),\n",
       "             ('fc_final.bias', tensor([ 1.5299, -0.8261]))])"
      ]
     },
     "execution_count": 111,
     "metadata": {},
     "output_type": "execute_result"
    }
   ],
   "source": [
    "m.state_dict()"
   ]
  },
  {
   "cell_type": "code",
   "execution_count": 104,
   "metadata": {},
   "outputs": [],
   "source": [
    "def last_layer_net(m):\n",
    "    new_m = copy.deepcopy(m)\n",
    "    \n",
    "    new_param_dict = dict(new_m.state_dict())\n",
    "    new_final_weight = torch.eye(new_param_dict['fc_final.weight'].shape[1])\n",
    "    new_final_bias =  torch.zeros(new_param_dict['fc_final.weight'].shape[1])\n",
    "    \n",
    "    new_param_dict['fc_final.weight'].data.copy_(new_final_weight)\n",
    "    new_param_dict['fc_final.bias'].data.copy_(new_final_bias)\n",
    "\n",
    "    return new_m\n",
    "\n",
    "new_m = last_layer_net(m)"
   ]
  },
  {
   "cell_type": "code",
   "execution_count": 105,
   "metadata": {},
   "outputs": [],
   "source": [
    "train_data, test_data = get_data_for_experiment(experiment_folder)\n"
   ]
  },
  {
   "cell_type": "code",
   "execution_count": 106,
   "metadata": {},
   "outputs": [],
   "source": [
    "train_loader = DataLoader(train_data, batch_size=len(train_data))\n",
    "train_batch = iter(train_loader).next()"
   ]
  },
  {
   "cell_type": "code",
   "execution_count": 107,
   "metadata": {},
   "outputs": [
    {
     "data": {
      "text/plain": [
       "<matplotlib.collections.PathCollection at 0x153df1cc0>"
      ]
     },
     "execution_count": 107,
     "metadata": {},
     "output_type": "execute_result"
    },
    {
     "data": {
      "image/png": "[encoded data removed]",
      "text/plain": [
       "<Figure size 432x288 with 1 Axes>"
      ]
     },
     "metadata": {
      "needs_background": "light"
     },
     "output_type": "display_data"
    }
   ],
   "source": [
    "inputs, labels = train_batch\n",
    "out_data = new_m(inputs)\n",
    "\n",
    "np_inputs = inputs.detach().numpy()\n",
    "\n",
    "plt.scatter(x=np_inputs[:, 0][class_filter], y=np_inputs[:, 1][class_filter])\n",
    "plt.scatter(x=np_inputs[:, 0][~class_filter], y=np_inputs[:, 1][~class_filter])\n"
   ]
  },
  {
   "cell_type": "code",
   "execution_count": 108,
   "metadata": {},
   "outputs": [
    {
     "data": {
      "text/plain": [
       "array([[0., 0.],\n",
       "       [0., 0.],\n",
       "       [0., 0.],\n",
       "       ...,\n",
       "       [0., 0.],\n",
       "       [0., 0.],\n",
       "       [0., 0.]], dtype=float32)"
      ]
     },
     "execution_count": 108,
     "metadata": {},
     "output_type": "execute_result"
    }
   ],
   "source": [
    "out_data_np"
   ]
  },
  {
   "cell_type": "code",
   "execution_count": 110,
   "metadata": {},
   "outputs": [
    {
     "data": {
      "text/plain": [
       "(0, 2)"
      ]
     },
     "execution_count": 110,
     "metadata": {},
     "output_type": "execute_result"
    },
    {
     "data": {
      "image/png": "[encoded data removed]",
      "text/plain": [
       "<Figure size 432x288 with 1 Axes>"
      ]
     },
     "metadata": {
      "needs_background": "light"
     },
     "output_type": "display_data"
    }
   ],
   "source": [
    "out_data_np = out_data.detach().numpy()\n",
    "class_filter = (labels == 0).detach().numpy()\n",
    "plt.scatter(out_data_np[:, 0][class_filter], out_data_np[:, 1][class_filter])\n",
    "plt.scatter(out_data_np[:, 0][~class_filter], out_data_np[:, 1][~class_filter])\n",
    "plt.xlim(0, 4)\n",
    "plt.ylim(0, 2)"
   ]
  },
  {
   "cell_type": "code",
   "execution_count": null,
   "metadata": {},
   "outputs": [],
   "source": []
  },
  {
   "cell_type": "code",
   "execution_count": null,
   "metadata": {},
   "outputs": [],
   "source": []
  }
 ],
 "metadata": {
  "kernelspec": {
   "display_name": "Python 3",
   "language": "python",
   "name": "python3"
  },
  "language_info": {
   "codemirror_mode": {
    "name": "ipython",
    "version": 3
   },
   "file_extension": ".py",
   "mimetype": "text/x-python",
   "name": "python",
   "nbconvert_exporter": "python",
   "pygments_lexer": "ipython3",
   "version": "3.7.3"
  }
 },
 "nbformat": 4,
 "nbformat_minor": 2
}
