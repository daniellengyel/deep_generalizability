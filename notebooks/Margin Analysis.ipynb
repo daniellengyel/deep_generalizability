{
 "cells": [
  {
   "cell_type": "code",
   "execution_count": null,
   "metadata": {},
   "outputs": [],
   "source": [
    "import pandas as pd\n",
    "import pickle,os, copy\n",
    "import numpy as np\n",
    "import matplotlib.pyplot as plt\n",
    "import torch\n",
    "from torch.utils.data import DataLoader\n",
    "import sys\n",
    "import scipy\n",
    "\n",
    "import re\n",
    "\n",
    "from sklearn.cluster import DBSCAN\n",
    "\n",
    "\n",
    "import margin_flatness as mf\n",
    "import margin_flatness.postprocessing as mf_post\n",
    "\n",
    "\n",
    "%load_ext autoreload\n",
    "%autoreload 2\n",
    "\n",
    "plt.rcParams[\"figure.figsize\"] = (13,9)\n",
    "\n",
    "COLORS = plt.cm.tab20(np.arange(20))\n",
    "\n",
    "CORRECT_COLOR_IDX = 3\n",
    "INCORRECT_COLOR_IDX = 1"
   ]
  },
  {
   "cell_type": "code",
   "execution_count": null,
   "metadata": {},
   "outputs": [],
   "source": [
    "root_folder = os.environ[\"PATH_TO_DEEP_FOLDER\"]\n",
    "data_name = \"MNIST\"\n",
    "exp = \"Nov16_23-57-48_Daniels-MacBook-Pro-4.local\"\n",
    "experiment_folder = os.path.join(root_folder, \"experiments\", data_name, exp)"
   ]
  },
  {
   "cell_type": "code",
   "execution_count": null,
   "metadata": {},
   "outputs": [],
   "source": [
    "stats_df = mf_post.stats_plotting.get_end_stats(experiment_folder, step=-1)\n"
   ]
  },
  {
   "cell_type": "code",
   "execution_count": null,
   "metadata": {},
   "outputs": [],
   "source": [
    "stats_df.sort_values(by=\"Acc Test Mean\", ascending=False)"
   ]
  },
  {
   "cell_type": "code",
   "execution_count": null,
   "metadata": {},
   "outputs": [],
   "source": [
    "import seaborn as sns\n",
    "\n",
    "\n",
    "sns.set(style=\"ticks\")\n",
    "\n",
    "c1 = [1.        , 0.49803922, 0.05490196, 1.        ]\n",
    "c2 = [0.12156863, 0.46666667, 0.70588235, 1.        ]\n",
    "\n",
    "x1 = margin_filters[\"1605404065.6600242\"]['0'][0]\n",
    "x2 = margin_filters[\"1605404077.381675\"]['0'][0] # np.random.randn(100)\n",
    "\n",
    "skewness1 = scipy.stats.moment(x1, moment=3)\n",
    "skewness2 = scipy.stats.moment(x2, moment=3)\n",
    "\n",
    "f, (ax1_box, ax1_hist, ax2_box, ax2_hist) = plt.subplots(4, sharex=True, \n",
    "                                    gridspec_kw={\"height_ratios\": (.15, .85, .15, .85)}, figsize=(14,12))\n",
    "\n",
    "sns.boxplot(x1, ax=ax1_box, color=c1)\n",
    "sns.distplot(x1, ax=ax1_hist, color=c1)\n",
    "\n",
    "sns.boxplot(x2, ax=ax2_box, color=c2)\n",
    "sns.distplot(x2, ax=ax2_hist, color=c2)\n",
    "\n",
    "ax1_box.set(yticks=[])\n",
    "ax2_box.set(yticks=[])\n",
    "ax1_hist.tick_params(axis='both', labelbottom=True, labelsize=18)\n",
    "ax2_hist.tick_params(axis='both', labelbottom=True, labelsize=18)\n",
    "\n",
    "ax2_hist.set_xlabel(\"Output Margins\", fontsize=22)\n",
    "ax1_hist.set_ylabel(ylabel=\"Density\", fontsize=22)\n",
    "ax2_hist.set_ylabel(ylabel=\"Density\", fontsize=22)\n",
    "\n",
    "\n",
    "\n",
    "sns.despine(ax=ax1_hist)\n",
    "sns.despine(ax=ax1_box, left=True)\n",
    "\n",
    "sns.despine(ax=ax2_hist)\n",
    "sns.despine(ax=ax2_box, left=True)\n",
    "\n",
    "ax1_hist.text(x=0.97, y=0.97, transform=ax1_hist.transAxes, s=\"Batch Size: 256 \\n Skewness: {:.2f}\".format(skewness1) ,\\\n",
    "         fontsize=22, verticalalignment='top', horizontalalignment='right',\\\n",
    "        backgroundcolor='white', color=c1)\n",
    "\n",
    "ax2_hist.text(x=0.97, y=0.97, transform=ax2_hist.transAxes, s=\"Batch Size: 4096 \\n Skewness: {:.2f}\".format(skewness2) ,\\\n",
    "         fontsize=22, verticalalignment='top', horizontalalignment='right',\\\n",
    "        backgroundcolor='white', color=c2)\n",
    "\n",
    "ax1_hist.grid(b=True, which='major')\n",
    "ax2_hist.grid(b=True, which='major')\n",
    "\n",
    "\n",
    "# f.savefig(\"./best_thing_ever\", dpi=300, bbox_inches = \"tight\",)"
   ]
  }
 ],
 "metadata": {
  "kernelspec": {
   "display_name": "Python3 (gen)",
   "language": "python",
   "name": "gen"
  },
  "language_info": {
   "codemirror_mode": {
    "name": "ipython",
    "version": 3
   },
   "file_extension": ".py",
   "mimetype": "text/x-python",
   "name": "python",
   "nbconvert_exporter": "python",
   "pygments_lexer": "ipython3",
   "version": "3.8.5"
  }
 },
 "nbformat": 4,
 "nbformat_minor": 2
}
