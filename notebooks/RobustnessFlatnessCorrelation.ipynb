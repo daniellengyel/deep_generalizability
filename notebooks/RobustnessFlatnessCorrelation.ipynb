{
 "cells": [
  {
   "cell_type": "code",
   "execution_count": 209,
   "metadata": {},
   "outputs": [
    {
     "name": "stdout",
     "output_type": "stream",
     "text": [
      "The autoreload extension is already loaded. To reload it, use:\n",
      "  %reload_ext autoreload\n"
     ]
    }
   ],
   "source": [
    "import pandas as pd\n",
    "import pickle,os, copy\n",
    "import numpy as np\n",
    "import matplotlib.pyplot as plt\n",
    "import torch\n",
    "from torch.utils.data import DataLoader\n",
    "import sys\n",
    "import scipy\n",
    "\n",
    "import re\n",
    "\n",
    "from sklearn.cluster import DBSCAN\n",
    "\n",
    "\n",
    "import margin_flatness as mf\n",
    "import margin_flatness.postprocessing as mf_post\n",
    "\n",
    "\n",
    "%load_ext autoreload\n",
    "%autoreload 2\n",
    "\n",
    "plt.rcParams[\"figure.figsize\"] = (13,9)\n"
   ]
  },
  {
   "cell_type": "code",
   "execution_count": 210,
   "metadata": {},
   "outputs": [],
   "source": [
    "root_folder = os.environ[\"PATH_TO_DEEP_FOLDER\"]\n",
    "data_name = \"MNIST\"\n",
    "exp = \"CE_F1\"\n",
    "experiment_folder = os.path.join(root_folder, \"experiments\", data_name, exp)"
   ]
  },
  {
   "cell_type": "code",
   "execution_count": 211,
   "metadata": {},
   "outputs": [
    {
     "ename": "TypeError",
     "evalue": "load_cached_data() missing 2 required positional arguments: 'step' and 'time_stamp'",
     "output_type": "error",
     "traceback": [
      "\u001b[0;31m---------------------------------------------------------------------------\u001b[0m",
      "\u001b[0;31mTypeError\u001b[0m                                 Traceback (most recent call last)",
      "\u001b[0;32m<ipython-input-211-7d018fe5b0a5>\u001b[0m in \u001b[0;36m<module>\u001b[0;34m\u001b[0m\n\u001b[0;32m----> 1\u001b[0;31m \u001b[0mstats_df\u001b[0m \u001b[0;34m=\u001b[0m \u001b[0mmf_post\u001b[0m\u001b[0;34m.\u001b[0m\u001b[0mstats_plotting\u001b[0m\u001b[0;34m.\u001b[0m\u001b[0mget_end_stats\u001b[0m\u001b[0;34m(\u001b[0m\u001b[0mexperiment_folder\u001b[0m\u001b[0;34m,\u001b[0m \u001b[0mstep\u001b[0m\u001b[0;34m=\u001b[0m\u001b[0;34m-\u001b[0m\u001b[0;36m1\u001b[0m\u001b[0;34m)\u001b[0m\u001b[0;34m\u001b[0m\u001b[0;34m\u001b[0m\u001b[0m\n\u001b[0m",
      "\u001b[0;32m~/deep_generalizability/margin_flatness/postprocessing/stats_plotting.py\u001b[0m in \u001b[0;36mget_end_stats\u001b[0;34m(exp_folder, step, with_min_max)\u001b[0m\n\u001b[1;32m     36\u001b[0m \u001b[0;32mdef\u001b[0m \u001b[0mget_end_stats\u001b[0m\u001b[0;34m(\u001b[0m\u001b[0mexp_folder\u001b[0m\u001b[0;34m,\u001b[0m \u001b[0mstep\u001b[0m\u001b[0;34m=\u001b[0m\u001b[0;34m-\u001b[0m\u001b[0;36m1\u001b[0m\u001b[0;34m,\u001b[0m \u001b[0mwith_min_max\u001b[0m\u001b[0;34m=\u001b[0m\u001b[0;32mFalse\u001b[0m\u001b[0;34m)\u001b[0m\u001b[0;34m:\u001b[0m\u001b[0;34m\u001b[0m\u001b[0;34m\u001b[0m\u001b[0m\n\u001b[1;32m     37\u001b[0m \u001b[0;34m\u001b[0m\u001b[0m\n\u001b[0;32m---> 38\u001b[0;31m     \u001b[0mruns\u001b[0m\u001b[0;34m,\u001b[0m \u001b[0m_\u001b[0m \u001b[0;34m=\u001b[0m \u001b[0mload_cached_data\u001b[0m\u001b[0;34m(\u001b[0m\u001b[0mexp_folder\u001b[0m\u001b[0;34m,\u001b[0m \u001b[0;34m\"runs\"\u001b[0m\u001b[0;34m)\u001b[0m\u001b[0;34m\u001b[0m\u001b[0;34m\u001b[0m\u001b[0m\n\u001b[0m\u001b[1;32m     39\u001b[0m     \u001b[0mtrace\u001b[0m\u001b[0;34m,\u001b[0m \u001b[0m_\u001b[0m \u001b[0;34m=\u001b[0m \u001b[0mload_cached_data\u001b[0m\u001b[0;34m(\u001b[0m\u001b[0mexp_folder\u001b[0m\u001b[0;34m,\u001b[0m \u001b[0;34m\"point_traces\"\u001b[0m\u001b[0;34m,\u001b[0m \u001b[0mstep\u001b[0m\u001b[0;34m=\u001b[0m\u001b[0mstep\u001b[0m\u001b[0;34m)\u001b[0m \u001b[0;31m# assume the trace i get is from the end.\u001b[0m\u001b[0;34m\u001b[0m\u001b[0;34m\u001b[0m\u001b[0m\n\u001b[1;32m     40\u001b[0m     \u001b[0macc\u001b[0m\u001b[0;34m,\u001b[0m \u001b[0m_\u001b[0m \u001b[0;34m=\u001b[0m \u001b[0mload_cached_data\u001b[0m\u001b[0;34m(\u001b[0m\u001b[0mexp_folder\u001b[0m\u001b[0;34m,\u001b[0m \u001b[0;34m\"acc\"\u001b[0m\u001b[0;34m,\u001b[0m \u001b[0mstep\u001b[0m\u001b[0;34m=\u001b[0m\u001b[0mstep\u001b[0m\u001b[0;34m)\u001b[0m\u001b[0;34m\u001b[0m\u001b[0;34m\u001b[0m\u001b[0m\n",
      "\u001b[0;31mTypeError\u001b[0m: load_cached_data() missing 2 required positional arguments: 'step' and 'time_stamp'"
     ]
    }
   ],
   "source": [
    "stats_df = mf_post.stats_plotting.get_end_stats(experiment_folder, step=-1)\n"
   ]
  },
  {
   "cell_type": "markdown",
   "metadata": {},
   "source": [
    "# Correlations Config"
   ]
  },
  {
   "cell_type": "markdown",
   "metadata": {},
   "source": [
    "#### Possible Complexity Measures:\n",
    "\n",
    "Flatness: [\"Hessian Trace\"]\n",
    "Robustness: [\"Output Margins\", \"Softmax Margins\", \"InputOutputJacobian\", \"ACEHT\", \"ACEHT Margins\"]\n",
    "\n",
    "#### Possible Correlations \n",
    "Kendal, Pearsons"
   ]
  },
  {
   "cell_type": "code",
   "execution_count": 232,
   "metadata": {},
   "outputs": [],
   "source": [
    "# X_axis_name = \"Output Margins\"\n",
    "X_measure_name = \"sample_average_flatness_pointwise\"\n",
    "Y_measure_name = \"point_traces\"\n",
    "\n",
    "step = -1\n",
    "seed = 0\n",
    "num_datapoints = 1000\n",
    "on_test_set = False\n",
    "device = None\n",
    "\n",
    "correlation_type = \"kendall\""
   ]
  },
  {
   "cell_type": "code",
   "execution_count": 233,
   "metadata": {},
   "outputs": [],
   "source": [
    "cfgs = mf.save_load.load_configs(experiment_folder)"
   ]
  },
  {
   "cell_type": "code",
   "execution_count": 234,
   "metadata": {},
   "outputs": [],
   "source": [
    "from scipy.stats import linregress, kendalltau, spearmanr\n"
   ]
  },
  {
   "cell_type": "code",
   "execution_count": 235,
   "metadata": {},
   "outputs": [],
   "source": [
    "X_measure = mf_post.postprocess_experiment.compute_on_experiment(experiment_folder, X_measure_name, step, seed, num_datapoints, on_test_set, device, verbose=True)\n",
    "Y_measure = mf_post.postprocess_experiment.compute_on_experiment(experiment_folder, Y_measure_name, step, seed, num_datapoints, on_test_set, device, verbose=True)\n",
    "\n",
    "corrs = []\n",
    "for exp_id in cfgs.index:\n",
    "    for nn in X_measure[exp_id]:\n",
    "        corr = spearmanr(X_measure[exp_id][nn], Y_measure[exp_id][nn])\n",
    "        corrs.append(corr[0])\n",
    "    "
   ]
  },
  {
   "cell_type": "code",
   "execution_count": 236,
   "metadata": {},
   "outputs": [
    {
     "data": {
      "text/plain": [
       "(array([ 3.,  0.,  4.,  8., 15., 18., 18., 11.,  2.,  2.]),\n",
       " array([-0.34133371, -0.29404214, -0.24675057, -0.199459  , -0.15216743,\n",
       "        -0.10487586, -0.05758429, -0.01029272,  0.03699885,  0.08429042,\n",
       "         0.13158199]),\n",
       " <BarContainer object of 10 artists>)"
      ]
     },
     "execution_count": 236,
     "metadata": {},
     "output_type": "execute_result"
    },
    {
     "data": {
      "image/png": "[encoded data removed]",
      "text/plain": [
       "<Figure size 936x648 with 1 Axes>"
      ]
     },
     "metadata": {
      "needs_background": "light"
     },
     "output_type": "display_data"
    }
   ],
   "source": [
    "plt.hist(corrs)"
   ]
  },
  {
   "cell_type": "code",
   "execution_count": 196,
   "metadata": {},
   "outputs": [
    {
     "data": {
      "text/plain": [
       "(array([ 5.,  2.,  3.,  5.,  1.,  2.,  0.,  1., 18., 44.]),\n",
       " array([0.2822674 , 0.33930506, 0.39634273, 0.45338039, 0.51041806,\n",
       "        0.56745573, 0.62449339, 0.68153106, 0.73856872, 0.79560639,\n",
       "        0.85264405]),\n",
       " <BarContainer object of 10 artists>)"
      ]
     },
     "execution_count": 196,
     "metadata": {},
     "output_type": "execute_result"
    },
    {
     "data": {
      "image/png": "[encoded data removed]",
      "text/plain": [
       "<Figure size 936x648 with 1 Axes>"
      ]
     },
     "metadata": {
      "needs_background": "light"
     },
     "output_type": "display_data"
    }
   ],
   "source": [
    "plt.hist(corrs)"
   ]
  },
  {
   "cell_type": "code",
   "execution_count": null,
   "metadata": {},
   "outputs": [],
   "source": []
  }
 ],
 "metadata": {
  "kernelspec": {
   "display_name": "Python3 (gen)",
   "language": "python",
   "name": "gen"
  },
  "language_info": {
   "codemirror_mode": {
    "name": "ipython",
    "version": 3
   },
   "file_extension": ".py",
   "mimetype": "text/x-python",
   "name": "python",
   "nbconvert_exporter": "python",
   "pygments_lexer": "ipython3",
   "version": "3.8.5"
  }
 },
 "nbformat": 4,
 "nbformat_minor": 2
}
