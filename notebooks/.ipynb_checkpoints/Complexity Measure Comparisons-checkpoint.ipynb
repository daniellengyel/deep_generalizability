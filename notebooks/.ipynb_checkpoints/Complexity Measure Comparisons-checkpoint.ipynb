{
 "cells": [
  {
   "cell_type": "code",
   "execution_count": 1,
   "metadata": {},
   "outputs": [],
   "source": [
    "import pandas as pd\n",
    "import pickle,os, copy\n",
    "import numpy as np\n",
    "import matplotlib.pyplot as plt\n",
    "import torch\n",
    "from torch.utils.data import DataLoader\n",
    "import sys\n",
    "import scipy\n",
    "\n",
    "import re\n",
    "\n",
    "import margin_flatness as mf\n",
    "import margin_flatness.postprocessing as mf_post\n",
    "\n",
    "\n",
    "%load_ext autoreload\n",
    "%autoreload 2"
   ]
  },
  {
   "cell_type": "code",
   "execution_count": 2,
   "metadata": {},
   "outputs": [],
   "source": [
    "plt.rcParams[\"figure.figsize\"] = (13,9)\n",
    "\n",
    "COLORS = plt.cm.tab20(np.arange(20))\n",
    "\n",
    "CORRECT_COLOR_IDX = 3\n",
    "INCORRECT_COLOR_IDX = 1"
   ]
  },
  {
   "cell_type": "code",
   "execution_count": 3,
   "metadata": {},
   "outputs": [],
   "source": [
    "root_folder = os.environ[\"PATH_TO_DEEP_FOLDER\"]\n",
    "data_name = \"MNIST\"\n",
    "exp = \"CE_F1\"\n",
    "experiment_folder = os.path.join(root_folder, \"experiments\", data_name, exp)"
   ]
  },
  {
   "cell_type": "code",
   "execution_count": 4,
   "metadata": {},
   "outputs": [],
   "source": [
    "stats_df = mf_post.stats_plotting.get_end_stats(experiment_folder, step=-1)\n"
   ]
  },
  {
   "cell_type": "code",
   "execution_count": 5,
   "metadata": {},
   "outputs": [
    {
     "data": {
      "text/html": [
       "<div>\n",
       "<style scoped>\n",
       "    .dataframe tbody tr th:only-of-type {\n",
       "        vertical-align: middle;\n",
       "    }\n",
       "\n",
       "    .dataframe tbody tr th {\n",
       "        vertical-align: top;\n",
       "    }\n",
       "\n",
       "    .dataframe thead th {\n",
       "        text-align: right;\n",
       "    }\n",
       "</style>\n",
       "<table border=\"1\" class=\"dataframe\">\n",
       "  <thead>\n",
       "    <tr style=\"text-align: right;\">\n",
       "      <th></th>\n",
       "      <th>Loss Test Mean</th>\n",
       "      <th>Loss Train Mean</th>\n",
       "      <th>Acc Train Mean</th>\n",
       "      <th>Acc Test Mean</th>\n",
       "      <th>Acc Gap Mean</th>\n",
       "      <th>batch_train_size</th>\n",
       "      <th>learning_rate</th>\n",
       "      <th>seed</th>\n",
       "      <th>weight_decay</th>\n",
       "    </tr>\n",
       "  </thead>\n",
       "  <tbody>\n",
       "    <tr>\n",
       "      <th>1605777199.6255481</th>\n",
       "      <td>0.055523</td>\n",
       "      <td>0.001748</td>\n",
       "      <td>0.999867</td>\n",
       "      <td>0.9847</td>\n",
       "      <td>-0.015167</td>\n",
       "      <td>32</td>\n",
       "      <td>0.01</td>\n",
       "      <td>0</td>\n",
       "      <td>0.0005</td>\n",
       "    </tr>\n",
       "    <tr>\n",
       "      <th>1605839859.6129062</th>\n",
       "      <td>0.056597</td>\n",
       "      <td>0.001824</td>\n",
       "      <td>0.999867</td>\n",
       "      <td>0.9845</td>\n",
       "      <td>-0.015367</td>\n",
       "      <td>32</td>\n",
       "      <td>0.01</td>\n",
       "      <td>5</td>\n",
       "      <td>0.0005</td>\n",
       "    </tr>\n",
       "    <tr>\n",
       "      <th>1605724651.0897503</th>\n",
       "      <td>0.055077</td>\n",
       "      <td>0.007480</td>\n",
       "      <td>0.998217</td>\n",
       "      <td>0.9842</td>\n",
       "      <td>-0.014017</td>\n",
       "      <td>32</td>\n",
       "      <td>0.1</td>\n",
       "      <td>0</td>\n",
       "      <td>0.0001</td>\n",
       "    </tr>\n",
       "    <tr>\n",
       "      <th>1605728268.265154</th>\n",
       "      <td>0.051580</td>\n",
       "      <td>0.006640</td>\n",
       "      <td>0.998417</td>\n",
       "      <td>0.9840</td>\n",
       "      <td>-0.014417</td>\n",
       "      <td>32</td>\n",
       "      <td>0.1</td>\n",
       "      <td>10</td>\n",
       "      <td>0.0001</td>\n",
       "    </tr>\n",
       "    <tr>\n",
       "      <th>1605754885.6487322</th>\n",
       "      <td>0.061488</td>\n",
       "      <td>0.001164</td>\n",
       "      <td>0.999983</td>\n",
       "      <td>0.9838</td>\n",
       "      <td>-0.016183</td>\n",
       "      <td>256</td>\n",
       "      <td>0.05</td>\n",
       "      <td>0</td>\n",
       "      <td>0.0005</td>\n",
       "    </tr>\n",
       "    <tr>\n",
       "      <th>...</th>\n",
       "      <td>...</td>\n",
       "      <td>...</td>\n",
       "      <td>...</td>\n",
       "      <td>...</td>\n",
       "      <td>...</td>\n",
       "      <td>...</td>\n",
       "      <td>...</td>\n",
       "      <td>...</td>\n",
       "      <td>...</td>\n",
       "    </tr>\n",
       "    <tr>\n",
       "      <th>1605720879.3374493</th>\n",
       "      <td>0.083767</td>\n",
       "      <td>0.028003</td>\n",
       "      <td>0.991567</td>\n",
       "      <td>0.9748</td>\n",
       "      <td>-0.016767</td>\n",
       "      <td>32</td>\n",
       "      <td>0.1</td>\n",
       "      <td>0</td>\n",
       "      <td>0</td>\n",
       "    </tr>\n",
       "    <tr>\n",
       "      <th>1605723063.3285263</th>\n",
       "      <td>0.093201</td>\n",
       "      <td>0.000512</td>\n",
       "      <td>1.000000</td>\n",
       "      <td>0.9745</td>\n",
       "      <td>-0.025500</td>\n",
       "      <td>1024</td>\n",
       "      <td>0.01</td>\n",
       "      <td>5</td>\n",
       "      <td>0</td>\n",
       "    </tr>\n",
       "    <tr>\n",
       "      <th>1605723451.315186</th>\n",
       "      <td>0.091434</td>\n",
       "      <td>0.027657</td>\n",
       "      <td>0.991200</td>\n",
       "      <td>0.9727</td>\n",
       "      <td>-0.018500</td>\n",
       "      <td>32</td>\n",
       "      <td>0.1</td>\n",
       "      <td>10</td>\n",
       "      <td>0</td>\n",
       "    </tr>\n",
       "    <tr>\n",
       "      <th>1605795553.9344513</th>\n",
       "      <td>0.090816</td>\n",
       "      <td>0.037907</td>\n",
       "      <td>0.989067</td>\n",
       "      <td>0.9721</td>\n",
       "      <td>-0.016967</td>\n",
       "      <td>32</td>\n",
       "      <td>0.1</td>\n",
       "      <td>5</td>\n",
       "      <td>0.0005</td>\n",
       "    </tr>\n",
       "    <tr>\n",
       "      <th>1605730031.2147672</th>\n",
       "      <td>0.100670</td>\n",
       "      <td>0.048217</td>\n",
       "      <td>0.984700</td>\n",
       "      <td>0.9698</td>\n",
       "      <td>-0.014900</td>\n",
       "      <td>32</td>\n",
       "      <td>0.1</td>\n",
       "      <td>0</td>\n",
       "      <td>0.0005</td>\n",
       "    </tr>\n",
       "  </tbody>\n",
       "</table>\n",
       "<p>81 rows × 9 columns</p>\n",
       "</div>"
      ],
      "text/plain": [
       "                    Loss Test Mean  Loss Train Mean  Acc Train Mean  \\\n",
       "1605777199.6255481        0.055523         0.001748        0.999867   \n",
       "1605839859.6129062        0.056597         0.001824        0.999867   \n",
       "1605724651.0897503        0.055077         0.007480        0.998217   \n",
       "1605728268.265154         0.051580         0.006640        0.998417   \n",
       "1605754885.6487322        0.061488         0.001164        0.999983   \n",
       "...                            ...              ...             ...   \n",
       "1605720879.3374493        0.083767         0.028003        0.991567   \n",
       "1605723063.3285263        0.093201         0.000512        1.000000   \n",
       "1605723451.315186         0.091434         0.027657        0.991200   \n",
       "1605795553.9344513        0.090816         0.037907        0.989067   \n",
       "1605730031.2147672        0.100670         0.048217        0.984700   \n",
       "\n",
       "                    Acc Test Mean  Acc Gap Mean batch_train_size  \\\n",
       "1605777199.6255481         0.9847     -0.015167               32   \n",
       "1605839859.6129062         0.9845     -0.015367               32   \n",
       "1605724651.0897503         0.9842     -0.014017               32   \n",
       "1605728268.265154          0.9840     -0.014417               32   \n",
       "1605754885.6487322         0.9838     -0.016183              256   \n",
       "...                           ...           ...              ...   \n",
       "1605720879.3374493         0.9748     -0.016767               32   \n",
       "1605723063.3285263         0.9745     -0.025500             1024   \n",
       "1605723451.315186          0.9727     -0.018500               32   \n",
       "1605795553.9344513         0.9721     -0.016967               32   \n",
       "1605730031.2147672         0.9698     -0.014900               32   \n",
       "\n",
       "                   learning_rate seed weight_decay  \n",
       "1605777199.6255481          0.01    0       0.0005  \n",
       "1605839859.6129062          0.01    5       0.0005  \n",
       "1605724651.0897503           0.1    0       0.0001  \n",
       "1605728268.265154            0.1   10       0.0001  \n",
       "1605754885.6487322          0.05    0       0.0005  \n",
       "...                          ...  ...          ...  \n",
       "1605720879.3374493           0.1    0            0  \n",
       "1605723063.3285263          0.01    5            0  \n",
       "1605723451.315186            0.1   10            0  \n",
       "1605795553.9344513           0.1    5       0.0005  \n",
       "1605730031.2147672           0.1    0       0.0005  \n",
       "\n",
       "[81 rows x 9 columns]"
      ]
     },
     "execution_count": 5,
     "metadata": {},
     "output_type": "execute_result"
    }
   ],
   "source": [
    "stats_df.sort_values(by=\"Acc Test Mean\", ascending=False)"
   ]
  },
  {
   "cell_type": "markdown",
   "metadata": {},
   "source": [
    "# Plot a histogram for kendall and isotonic R^2 value. "
   ]
  },
  {
   "cell_type": "code",
   "execution_count": 6,
   "metadata": {},
   "outputs": [],
   "source": [
    "# Plot histogram Kendall "
   ]
  },
  {
   "cell_type": "code",
   "execution_count": 20,
   "metadata": {},
   "outputs": [],
   "source": [
    "all_point_traces, _ = mf.save_load.load_cached_data(experiment_folder, \"point_traces\", step=-1, time_stamp=\"Dec02_14-40-03\")\n",
    "all_point_output_margins, _ = mf.save_load.load_cached_data(experiment_folder, \"output_margins\", step=-1, time_stamp=\"Dec02_20-51-39\")\n"
   ]
  },
  {
   "cell_type": "code",
   "execution_count": 79,
   "metadata": {},
   "outputs": [],
   "source": [
    "exp_ids = stats_df.index\n",
    "\n",
    "kendall_coeffs = {}\n",
    "num_nets = 1\n",
    "for exp_id in exp_ids:\n",
    "    for nn_idx in range(num_nets):\n",
    "        x_data = all_point_traces[exp_id][\"{}\".format(nn_idx)]\n",
    "        y_data = all_point_output_margins[exp_id][\"{}\".format(nn_idx)]\n",
    "        kendall_coeffs[exp_id] = mf_post.correlation.get_kendall(x_data, y_data, remove_outliers=True).correlation\n",
    "    \n"
   ]
  },
  {
   "cell_type": "code",
   "execution_count": 80,
   "metadata": {},
   "outputs": [
    {
     "data": {
      "image/png": "[encoded data removed]",
      "text/plain": [
       "<Figure size 936x648 with 1 Axes>"
      ]
     },
     "metadata": {
      "needs_background": "light"
     },
     "output_type": "display_data"
    }
   ],
   "source": [
    "plt.hist(list(kendall_coeffs.values()))\n",
    "plt.title(\"Kendall Coefficient\")\n",
    "plt.show()"
   ]
  },
  {
   "cell_type": "code",
   "execution_count": 23,
   "metadata": {},
   "outputs": [],
   "source": [
    "# Plot R2 of isotopic"
   ]
  },
  {
   "cell_type": "code",
   "execution_count": 81,
   "metadata": {},
   "outputs": [],
   "source": [
    "exp_ids = stats_df.index\n",
    "\n",
    "r2_coeffs = {}\n",
    "num_nets = 1\n",
    "for exp_id in exp_ids:\n",
    "    for nn_idx in range(num_nets):\n",
    "        x_data = all_point_traces[exp_id][\"{}\".format(nn_idx)]\n",
    "        y_data = all_point_output_margins[exp_id][\"{}\".format(nn_idx)]\n",
    "        r2_coeffs[exp_id] = mf_post.correlation.get_isotonic_r_squared(x_data, y_data, remove_outliers=True, increasing=False)\n",
    "    \n"
   ]
  },
  {
   "cell_type": "code",
   "execution_count": 82,
   "metadata": {},
   "outputs": [
    {
     "data": {
      "image/png": "[encoded data removed]",
      "text/plain": [
       "<Figure size 936x648 with 1 Axes>"
      ]
     },
     "metadata": {
      "needs_background": "light"
     },
     "output_type": "display_data"
    }
   ],
   "source": [
    "plt.hist(list(r2_coeffs.values()), bins=20)\n",
    "plt.title(\"Isotopic R2 Coefficient\")\n",
    "plt.show()"
   ]
  },
  {
   "cell_type": "code",
   "execution_count": 59,
   "metadata": {},
   "outputs": [
    {
     "data": {
      "image/png": "[encoded data removed]",
      "text/plain": [
       "<Figure size 936x648 with 1 Axes>"
      ]
     },
     "metadata": {
      "needs_background": "light"
     },
     "output_type": "display_data"
    }
   ],
   "source": [
    "plt.hist(list(r2_coeffs_auto.values()), bins=20)\n",
    "plt.title(\"Isotopic R2 Coefficient\")\n",
    "plt.show()"
   ]
  },
  {
   "cell_type": "code",
   "execution_count": 83,
   "metadata": {},
   "outputs": [
    {
     "data": {
      "text/plain": [
       "(array([[ 0.,  0.,  0.,  3.,  1.,  2.,  1.,  1.,  0.,  0.,  1.,  1.,  0.,\n",
       "          0.,  0.,  1.,  1.,  0.,  0.,  1.,  0.,  3.,  2., 10., 18., 21.,\n",
       "         12.,  2.,  0.,  0.],\n",
       "        [ 3.,  0.,  0.,  0.,  0.,  0.,  0.,  0.,  1.,  0.,  1.,  1.,  1.,\n",
       "          0.,  1.,  0.,  3.,  0.,  6.,  2.,  3., 10., 11., 11., 10.,  7.,\n",
       "          5.,  2.,  1.,  2.]]),\n",
       " array([0.        , 0.03333333, 0.06666667, 0.1       , 0.13333333,\n",
       "        0.16666667, 0.2       , 0.23333333, 0.26666667, 0.3       ,\n",
       "        0.33333333, 0.36666667, 0.4       , 0.43333333, 0.46666667,\n",
       "        0.5       , 0.53333333, 0.56666667, 0.6       , 0.63333333,\n",
       "        0.66666667, 0.7       , 0.73333333, 0.76666667, 0.8       ,\n",
       "        0.83333333, 0.86666667, 0.9       , 0.93333333, 0.96666667,\n",
       "        1.        ]),\n",
       " <a list of 2 BarContainer objects>)"
      ]
     },
     "execution_count": 83,
     "metadata": {},
     "output_type": "execute_result"
    },
    {
     "data": {
      "image/png": "[encoded data removed]",
      "text/plain": [
       "<Figure size 936x648 with 1 Axes>"
      ]
     },
     "metadata": {
      "needs_background": "light"
     },
     "output_type": "display_data"
    }
   ],
   "source": [
    "plt.hist([list(r2_coeffs.values()), list(r2_coeffs_auto.values())], bins=30, range=(0, 1), stacked=False)\n",
    "\n",
    "# plt.hist(list(r2_coeffs_auto.values()), bins=30, range=(0, 1), density=True)\n"
   ]
  },
  {
   "cell_type": "markdown",
   "metadata": {},
   "source": [
    "# Plot every point on one plot"
   ]
  },
  {
   "cell_type": "code",
   "execution_count": 91,
   "metadata": {},
   "outputs": [],
   "source": [
    "exp_ids = stats_df.index\n",
    "\n",
    "all_x_data = []\n",
    "all_y_data = []\n",
    "num_nets = 1\n",
    "for exp_id in exp_ids:\n",
    "    for nn_idx in range(num_nets):\n",
    "        x_data = all_point_traces[exp_id][\"{}\".format(nn_idx)]\n",
    "        y_data = all_point_output_margins[exp_id][\"{}\".format(nn_idx)]\n",
    "        all_x_data.append(np.mean(x_data))\n",
    "        all_y_data.append(np.min(y_data))\n"
   ]
  },
  {
   "cell_type": "code",
   "execution_count": 92,
   "metadata": {},
   "outputs": [
    {
     "data": {
      "text/plain": [
       "<matplotlib.collections.PathCollection at 0x7ffa74b2e7c0>"
      ]
     },
     "execution_count": 92,
     "metadata": {},
     "output_type": "execute_result"
    },
    {
     "data": {
      "image/png": "[encoded data removed]",
      "text/plain": [
       "<Figure size 936x648 with 1 Axes>"
      ]
     },
     "metadata": {
      "needs_background": "light"
     },
     "output_type": "display_data"
    }
   ],
   "source": [
    "plt.scatter(all_y_data, all_x_data)"
   ]
  },
  {
   "cell_type": "code",
   "execution_count": 95,
   "metadata": {},
   "outputs": [
    {
     "data": {
      "text/plain": [
       "0.912455696794305"
      ]
     },
     "execution_count": 95,
     "metadata": {},
     "output_type": "execute_result"
    }
   ],
   "source": [
    "from sklearn.isotonic import IsotonicRegression\n",
    "from sklearn.metrics import r2_score\n",
    "mf_post.correlation.get_isotonic_r_squared(all_y_data, all_x_data, remove_outliers=False, increasing=True)"
   ]
  },
  {
   "cell_type": "markdown",
   "metadata": {},
   "source": [
    "# Plot Correlations"
   ]
  },
  {
   "cell_type": "code",
   "execution_count": null,
   "metadata": {},
   "outputs": [],
   "source": [
    "# all_steps = mf.save_load.get_exp_steps(experiment_folder)\n",
    "# all_steps = np.array([list(v.keys()) for v in all_steps.values()]).reshape(-1)\n",
    "# all_steps = sorted(list(set(all_steps)))\n",
    "\n",
    "# Plot trace vs margins\n",
    "# X_axis_name = \"Output Margins\"\n",
    "X_axis_name = \"Output Margins\"\n",
    "Y_axis_name = \"Empirical Trace\"\n",
    "\n",
    "\n",
    "plot_name = \"C_IC\"\n",
    "X_axis_bounds = None #[0, 1.001]\n",
    "Y_axis_bounds = None #[0, 200]\n",
    "\n",
    "should_save = False\n",
    "\n",
    "\n",
    "filter_seperate = [\"batch_train_size\", \"learning_rate\", \"weight_decay\", \"seed\"]\n",
    "filter_not_seperate = None\n",
    "\n",
    "pre_filtered_exp_ids = None\n",
    "\n",
    "use_correct_filter = True\n",
    "draw_correlation = True\n",
    "\n"
   ]
  },
  {
   "cell_type": "code",
   "execution_count": null,
   "metadata": {
    "scrolled": true
   },
   "outputs": [],
   "source": [
    "if should_save:\n",
    "    save_time_path = os.path.join(experiment_folder, \"time_corr\")\n",
    "    if not os.path.isdir(save_time_path):\n",
    "        os.mkdir(save_time_path)\n",
    "else:\n",
    "    save_time_path = None\n",
    "\n",
    "for step in [-1]:\n",
    "#     acc, _ = load_cached_data(experiment_folder, \"acc\", step=step)\n",
    "    \n",
    "    curr_point_traces, meta = mf.save_load.load_cached_data(experiment_folder, \"point_traces\", step=step)\n",
    "    if X_axis_name == \"Output Margins\":\n",
    "        corr_candidate_filter = mf_post.postprocess_experiment.get_exp_margins(experiment_folder, softmax_outputs=False, step=step, seed=0, device=None, num_datapoints=1000, on_test_set=False, should_cache=False)\n",
    "    \n",
    "    if X_axis_name == \"Jacobian\":\n",
    "        corr_candidate_filter = mf_post.postprocess_experiment.get_exp_inp_out_jacobian(experiment_folder, step=step, seed=0, device=None, num_datapoints=1000, on_test_set=False, should_cache=False)\n",
    "    \n",
    "    curr_plot_name = \"{}_step_{}\".format(plot_name, step)\n",
    "    \n",
    "    data_func = mf_post.stats_plotting.margin_trace_correct_incorrect_plot(corr_candidate_filter, curr_point_traces, use_correct_filter=use_correct_filter, draw_correlation=draw_correlation)\n",
    "    \n",
    "    mf_post.stats_plotting.hp_data_func_plot(experiment_folder, data_func, X_axis_name, Y_axis_name, \n",
    "                      curr_plot_name, filter_seperate, filter_not_seperate,\n",
    "                 save_time_path, X_axis_bounds, Y_axis_bounds, \n",
    "                    pre_filtered_exp_ids)\n",
    "\n",
    " \n"
   ]
  },
  {
   "cell_type": "code",
   "execution_count": null,
   "metadata": {
    "scrolled": true
   },
   "outputs": [],
   "source": [
    "# root_folder = os.environ[\"PATH_TO_DEEP_FOLDER\"]\n",
    "# data_name = \"MNIST\"\n",
    "# exp = \"Keskar_F1\"\n",
    "experiment_folder = os.path.join(root_folder, \"experiments\", data_name, exp)\n",
    "\n",
    "\n",
    "# X_data_filter_f = lambda step: get_exp_linear_loss_trace(experiment_folder, step=step, seed=0, device=None, num_datapoints=1000, on_test_set=False, should_cache=False)\n",
    "\n",
    "X_data_filter_f = lambda step: get_exp_margins(experiment_folder, get_upperbound=True, softmax_outputs=True, step=step, seed=0, device=None, num_datapoints=100, on_test_set=False, should_cache=False) # get_exp_linear_loss_trace(experiment_folder, step=step, seed=0, device=None, num_datapoints=1000, on_test_set=False, should_cache=False)\n",
    "\n",
    "Y_data_f = lambda step:  load_cached_data(experiment_folder, \"point_traces\", step=step)[0]\n",
    "use_correct_filter = True\n",
    "c = get_corr_array(experiment_folder, X_data_filter_f, Y_data_f, use_correct_filter)\n"
   ]
  },
  {
   "cell_type": "code",
   "execution_count": null,
   "metadata": {},
   "outputs": [],
   "source": [
    "for exp_id in c:\n",
    "    if exp_id != \"1605478459.1644921\":\n",
    "        continue\n",
    "        \n",
    "    a = c[exp_id][\"0\"]\n",
    "\n",
    "    plots = []\n",
    "    plots_names = []\n",
    "    X_axis_name = \"training step\"\n",
    "    Y_axis_name = \"r value\"\n",
    "\n",
    "    save_location = None # os.path.join(experiment_folder, \"time_r_margins_{}\".format(stats_df.loc[exp_id][\"batch_train_size\"]))\n",
    "\n",
    "\n",
    "    plots.append(plt.plot(list(a[\"correct_r_value\"].keys()), list(a[\"correct_r_value\"].values()), label=\"Correctly Predicted\", color=COLORS[CORRECT_COLOR_IDX]))\n",
    "    plots.append(plt.plot(list(a[\"incorrect_r_value\"].keys()), list(a[\"incorrect_r_value\"].values()), label=\"Incorrectly Predicted\",  color=COLORS[INCORRECT_COLOR_IDX]))\n",
    "#     plots_names = [\"Correctly Predicted\", \"Incorrectly Predicted\"] \n",
    "\n",
    "    \n",
    "    costum_plot(plots, plots_names, X_axis_name, Y_axis_name, X_axis_bounds=None, Y_axis_bounds=None, save_location=save_location)\n",
    "\n"
   ]
  },
  {
   "cell_type": "code",
   "execution_count": null,
   "metadata": {},
   "outputs": [],
   "source": [
    "plots = []\n",
    "plots_names = []\n",
    "X_axis_name = \"training step\"\n",
    "Y_axis_name = \"training accuracy\"\n",
    "\n",
    "save_location = os.path.join(experiment_folder, \"time_acc\")\n",
    "\n",
    "\n",
    "plots.append(plt.plot(list(a[\"acc\"].keys()), list(a[\"acc\"].values())))\n",
    "\n",
    "costum_plot(plots, plots_names, X_axis_name, Y_axis_name, X_axis_bounds=None, Y_axis_bounds=None, save_location=save_location)\n",
    "\n"
   ]
  },
  {
   "cell_type": "code",
   "execution_count": null,
   "metadata": {},
   "outputs": [],
   "source": [
    "h_arr = []\n",
    "m_arr = []\n",
    "for step in np.linspace(0, 10000, 21):\n",
    "    print(step)\n",
    "    curr_point_traces, meta = load_cached_data(experiment_folder, \"point_traces\", step=int(step)+1)\n",
    "    h_arr.append(curr_point_traces)\n",
    "#         linear_loss_trace_filters = get_exp_linear_loss_trace(experiment_folder, step=step+1, seed=0, device=None, num_datapoints=1000, on_test_set=False, should_cache=False)\n",
    "    linear_loss_trace_filters = get_exp_margins(experiment_folder, softmax_outputs=False, step=int(step) + 1, seed=0, device=None, num_datapoints=1000, on_test_set=False, should_cache=False)\n",
    "#     h_arr.append(curr_point_traces)\n",
    "    m_arr.append(linear_loss_trace_filters)\n",
    "    \n",
    "\n",
    "\n"
   ]
  },
  {
   "cell_type": "code",
   "execution_count": null,
   "metadata": {},
   "outputs": [],
   "source": [
    "h_res = [[], []]\n",
    "for t in range(len(m_arr)):\n",
    "    for i, exp_id in enumerate(h_arr[t]):\n",
    "        h = h_arr[t][exp_id]['0']\n",
    "#         h_res[i].append(np.mean(h))\n",
    "        h_res[i].append(scipy.stats.moment(h, moment=3))"
   ]
  },
  {
   "cell_type": "code",
   "execution_count": null,
   "metadata": {},
   "outputs": [],
   "source": [
    "plt.plot(h_res[0][15:])\n",
    "plt.plot(h_res[1][15:])\n"
   ]
  },
  {
   "cell_type": "code",
   "execution_count": null,
   "metadata": {},
   "outputs": [],
   "source": [
    "plt.plot(h_res[0])\n",
    "plt.plot(h_res[1])\n"
   ]
  },
  {
   "cell_type": "code",
   "execution_count": null,
   "metadata": {},
   "outputs": [],
   "source": [
    "res = [[], []]\n",
    "for t in range(len(m_arr)):\n",
    "    for i, exp_id in enumerate(m_arr[t]):\n",
    "        m, f = m_arr[t][exp_id]['0']\n",
    "#         res[i].append(np.mean(m[f]))\n",
    "        res[i].append(scipy.stats.moment(m[f], moment=3))"
   ]
  },
  {
   "cell_type": "code",
   "execution_count": null,
   "metadata": {},
   "outputs": [],
   "source": [
    "res"
   ]
  },
  {
   "cell_type": "code",
   "execution_count": null,
   "metadata": {},
   "outputs": [],
   "source": [
    "plt.plot(res[0])\n",
    "plt.plot(res[1])\n"
   ]
  },
  {
   "cell_type": "code",
   "execution_count": null,
   "metadata": {},
   "outputs": [],
   "source": [
    "plt.plot(res[0])\n",
    "plt.plot(res[1])\n"
   ]
  },
  {
   "cell_type": "code",
   "execution_count": null,
   "metadata": {},
   "outputs": [],
   "source": [
    "import margin_flatness.nets as mf_nets \n",
    "from torch.utils.data import DataLoader\n"
   ]
  },
  {
   "cell_type": "code",
   "execution_count": null,
   "metadata": {},
   "outputs": [],
   "source": [
    "# exp_name = \"1605702831.5614505\"\n",
    "exp_name = \"1605720879.3374493\"\n",
    "models = mf.save_load.get_models(os.path.join(experiment_folder, \"models\", exp_name), step=-1, device=None)\n",
    "\n",
    "cfgs = mf.save_load.load_configs(experiment_folder)\n",
    "criterion = mf.training_utils.get_criterion(cfgs.loc[exp_name])\n"
   ]
  },
  {
   "cell_type": "code",
   "execution_count": null,
   "metadata": {},
   "outputs": [],
   "source": [
    "\n",
    "\n",
    "train_data, test_data = mf_post.postprocess_experiment.get_data_for_experiment(experiment_folder)\n",
    "\n",
    "num_datapoints = 1000\n",
    "seed = 0\n",
    "N = 100\n",
    "data= mf.data_getters.get_random_data_subset(train_data, num_datapoints=num_datapoints, seed=seed)"
   ]
  },
  {
   "cell_type": "code",
   "execution_count": null,
   "metadata": {},
   "outputs": [],
   "source": [
    "curr_point_traces, meta = mf.save_load.load_cached_data(experiment_folder, \"point_traces\", step=-1)\n"
   ]
  },
  {
   "cell_type": "code",
   "execution_count": null,
   "metadata": {},
   "outputs": [],
   "source": [
    "s = mf_post.sharpness_measures.sample_average_flatness_pointwise(models, data, criterion, N, 0.0001, seed=seed)"
   ]
  },
  {
   "cell_type": "code",
   "execution_count": null,
   "metadata": {},
   "outputs": [],
   "source": [
    "# ps = mf_post.sharpness_measures.get_point_traces(models, data, criterion, device=None, seed=seed)"
   ]
  },
  {
   "cell_type": "code",
   "execution_count": null,
   "metadata": {},
   "outputs": [],
   "source": [
    "plt.scatter(curr_point_traces[exp_name]['0'], s['0'])"
   ]
  },
  {
   "cell_type": "code",
   "execution_count": null,
   "metadata": {},
   "outputs": [],
   "source": [
    "r = mf_post.robustness.sample_average_robustness_pointwise(models, data, criterion, N, 1, seed=seed)"
   ]
  },
  {
   "cell_type": "code",
   "execution_count": null,
   "metadata": {},
   "outputs": [],
   "source": [
    "plt.scatter(r['0'], s['0'])"
   ]
  },
  {
   "cell_type": "code",
   "execution_count": null,
   "metadata": {},
   "outputs": [],
   "source": []
  }
 ],
 "metadata": {
  "kernelspec": {
   "display_name": "Python3 (gen)",
   "language": "python",
   "name": "gen"
  },
  "language_info": {
   "codemirror_mode": {
    "name": "ipython",
    "version": 3
   },
   "file_extension": ".py",
   "mimetype": "text/x-python",
   "name": "python",
   "nbconvert_exporter": "python",
   "pygments_lexer": "ipython3",
   "version": "3.8.5"
  }
 },
 "nbformat": 4,
 "nbformat_minor": 2
}
